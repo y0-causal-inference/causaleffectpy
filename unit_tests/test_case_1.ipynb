{
 "cells": [
  {
   "cell_type": "code",
   "execution_count": 3,
   "metadata": {},
   "outputs": [
    {
     "name": "stdout",
     "output_type": "stream",
     "text": [
      "Requirement already satisfied: pandas in ./my_virtual_env/lib/python3.11/site-packages (2.2.2)\r\n",
      "Requirement already satisfied: numpy>=1.23.2 in ./my_virtual_env/lib/python3.11/site-packages (from pandas) (2.1.0)\r\n",
      "Requirement already satisfied: python-dateutil>=2.8.2 in ./my_virtual_env/lib/python3.11/site-packages (from pandas) (2.9.0.post0)\r\n",
      "Requirement already satisfied: pytz>=2020.1 in ./my_virtual_env/lib/python3.11/site-packages (from pandas) (2024.1)\r\n",
      "Requirement already satisfied: tzdata>=2022.7 in ./my_virtual_env/lib/python3.11/site-packages (from pandas) (2024.1)\r\n",
      "Requirement already satisfied: six>=1.5 in ./my_virtual_env/lib/python3.11/site-packages (from python-dateutil>=2.8.2->pandas) (1.16.0)\r\n",
      "Requirement already satisfied: pandas in ./my_virtual_env/lib/python3.11/site-packages (2.2.2)\r\n",
      "Requirement already satisfied: numpy>=1.23.2 in ./my_virtual_env/lib/python3.11/site-packages (from pandas) (2.1.0)\r\n",
      "Requirement already satisfied: python-dateutil>=2.8.2 in ./my_virtual_env/lib/python3.11/site-packages (from pandas) (2.9.0.post0)\r\n",
      "Requirement already satisfied: pytz>=2020.1 in ./my_virtual_env/lib/python3.11/site-packages (from pandas) (2024.1)\r\n",
      "Requirement already satisfied: tzdata>=2022.7 in ./my_virtual_env/lib/python3.11/site-packages (from pandas) (2024.1)\r\n",
      "Requirement already satisfied: six>=1.5 in ./my_virtual_env/lib/python3.11/site-packages (from python-dateutil>=2.8.2->pandas) (1.16.0)\r\n"
     ]
    },
    {
     "name": "stdout",
     "output_type": "stream",
     "text": [
      "Note: you may need to restart the kernel to use updated packages.\n",
      "Note: you may need to restart the kernel to use updated packages.\n"
     ]
    }
   ],
   "source": [
    "# install pandas\n",
    "%pip install pandas\n",
    "\n",
    "import pandas"
   ]
  },
  {
   "cell_type": "code",
   "execution_count": 4,
   "metadata": {},
   "outputs": [
    {
     "name": "stdout",
     "output_type": "stream",
     "text": [
      "Requirement already satisfied: pytest in ./my_virtual_env/lib/python3.11/site-packages (8.3.2)\r\n",
      "Requirement already satisfied: iniconfig in ./my_virtual_env/lib/python3.11/site-packages (from pytest) (2.0.0)\r\n",
      "Requirement already satisfied: packaging in ./my_virtual_env/lib/python3.11/site-packages (from pytest) (24.1)\r\n",
      "Requirement already satisfied: pluggy<2,>=1.5 in ./my_virtual_env/lib/python3.11/site-packages (from pytest) (1.5.0)\r\n",
      "Requirement already satisfied: pytest in ./my_virtual_env/lib/python3.11/site-packages (8.3.2)\r\n",
      "Requirement already satisfied: iniconfig in ./my_virtual_env/lib/python3.11/site-packages (from pytest) (2.0.0)\r\n",
      "Requirement already satisfied: packaging in ./my_virtual_env/lib/python3.11/site-packages (from pytest) (24.1)\r\n",
      "Requirement already satisfied: pluggy<2,>=1.5 in ./my_virtual_env/lib/python3.11/site-packages (from pytest) (1.5.0)\r\n"
     ]
    },
    {
     "name": "stdout",
     "output_type": "stream",
     "text": [
      "Note: you may need to restart the kernel to use updated packages.\n",
      "Note: you may need to restart the kernel to use updated packages.\n"
     ]
    }
   ],
   "source": [
    "# install pytest\n",
    "%pip install pytest\n",
    "\n",
    "import pytest"
   ]
  },
  {
   "cell_type": "code",
   "execution_count": 5,
   "metadata": {},
   "outputs": [
    {
     "name": "stdout",
     "output_type": "stream",
     "text": [
      "Obtaining file:///Users/humm249/Projects/Python/causaleffectpy\r\n",
      "Obtaining file:///Users/humm249/Projects/Python/causaleffectpy\r\n"
     ]
    },
    {
     "name": "stdout",
     "output_type": "stream",
     "text": [
      "  Installing build dependencies ... \u001b[?25l-  Installing build dependencies ... \u001b[?25l-"
     ]
    },
    {
     "name": "stdout",
     "output_type": "stream",
     "text": [
      "\b \b\\\b \b\\"
     ]
    },
    {
     "name": "stdout",
     "output_type": "stream",
     "text": [
      "\b \b|\b \b|"
     ]
    },
    {
     "name": "stdout",
     "output_type": "stream",
     "text": [
      "\b \b/\b \b/"
     ]
    },
    {
     "name": "stdout",
     "output_type": "stream",
     "text": [
      "\b \b-\b \b-"
     ]
    },
    {
     "name": "stdout",
     "output_type": "stream",
     "text": [
      "\b \b\\\b \b\\"
     ]
    },
    {
     "name": "stdout",
     "output_type": "stream",
     "text": [
      "\b \b|\b \b|"
     ]
    },
    {
     "name": "stdout",
     "output_type": "stream",
     "text": [
      "\b \b/\b \b/"
     ]
    },
    {
     "name": "stdout",
     "output_type": "stream",
     "text": [
      "\b \b-\b \b-"
     ]
    },
    {
     "name": "stdout",
     "output_type": "stream",
     "text": [
      "\b \bdone\r\n",
      "\b \bdone\r\n"
     ]
    },
    {
     "name": "stdout",
     "output_type": "stream",
     "text": [
      "\u001b[?25h  Checking if build backend supports build_editable ... \u001b[?25ldone\r\n",
      "\u001b[?25h  Checking if build backend supports build_editable ... \u001b[?25ldone\r\n"
     ]
    },
    {
     "name": "stdout",
     "output_type": "stream",
     "text": [
      "\u001b[?25h  Getting requirements to build editable ... \u001b[?25l-\u001b[?25h  Getting requirements to build editable ... \u001b[?25l-"
     ]
    },
    {
     "name": "stdout",
     "output_type": "stream",
     "text": [
      "\b \bdone\r\n",
      "\b \bdone\r\n"
     ]
    },
    {
     "name": "stdout",
     "output_type": "stream",
     "text": [
      "\u001b[?25h  Preparing editable metadata (pyproject.toml) ... \u001b[?25l-\u001b[?25h  Preparing editable metadata (pyproject.toml) ... \u001b[?25l-"
     ]
    },
    {
     "name": "stdout",
     "output_type": "stream",
     "text": [
      "\b \bdone\r\n",
      "\u001b[?25hRequirement already satisfied: numpy>=1.15.1 in ./my_virtual_env/lib/python3.11/site-packages (from causaleffect==0.0.3) (2.1.0)\r\n",
      "\b \bdone\r\n",
      "\u001b[?25hRequirement already satisfied: numpy>=1.15.1 in ./my_virtual_env/lib/python3.11/site-packages (from causaleffect==0.0.3) (2.1.0)\r\n"
     ]
    },
    {
     "name": "stdout",
     "output_type": "stream",
     "text": [
      "Collecting python-igraph>=0.8.3 (from causaleffect==0.0.3)\r\n",
      "Collecting python-igraph>=0.8.3 (from causaleffect==0.0.3)\r\n"
     ]
    },
    {
     "name": "stdout",
     "output_type": "stream",
     "text": [
      "  Downloading python_igraph-0.11.6-py3-none-any.whl.metadata (2.8 kB)\r\n",
      "  Downloading python_igraph-0.11.6-py3-none-any.whl.metadata (2.8 kB)\r\n"
     ]
    },
    {
     "name": "stdout",
     "output_type": "stream",
     "text": [
      "Collecting igraph==0.11.6 (from python-igraph>=0.8.3->causaleffect==0.0.3)\r\n",
      "Collecting igraph==0.11.6 (from python-igraph>=0.8.3->causaleffect==0.0.3)\r\n"
     ]
    },
    {
     "name": "stdout",
     "output_type": "stream",
     "text": [
      "  Downloading igraph-0.11.6-cp39-abi3-macosx_10_9_x86_64.whl.metadata (3.9 kB)\r\n",
      "  Downloading igraph-0.11.6-cp39-abi3-macosx_10_9_x86_64.whl.metadata (3.9 kB)\r\n"
     ]
    },
    {
     "name": "stdout",
     "output_type": "stream",
     "text": [
      "Collecting texttable>=1.6.2 (from igraph==0.11.6->python-igraph>=0.8.3->causaleffect==0.0.3)\r\n",
      "Collecting texttable>=1.6.2 (from igraph==0.11.6->python-igraph>=0.8.3->causaleffect==0.0.3)\r\n"
     ]
    },
    {
     "name": "stdout",
     "output_type": "stream",
     "text": [
      "  Downloading texttable-1.7.0-py2.py3-none-any.whl.metadata (9.8 kB)\r\n",
      "  Downloading texttable-1.7.0-py2.py3-none-any.whl.metadata (9.8 kB)\r\n"
     ]
    },
    {
     "name": "stdout",
     "output_type": "stream",
     "text": [
      "Downloading python_igraph-0.11.6-py3-none-any.whl (9.1 kB)\r\n",
      "Downloading python_igraph-0.11.6-py3-none-any.whl (9.1 kB)\r\n"
     ]
    },
    {
     "name": "stdout",
     "output_type": "stream",
     "text": [
      "Downloading igraph-0.11.6-cp39-abi3-macosx_10_9_x86_64.whl (1.9 MB)\r\n",
      "\u001b[?25l   \u001b[38;5;237m━━━━━━━━━━━━━━━━━━━━━━━━━━━━━━━━━━━━━━━━\u001b[0m \u001b[32m0.0/1.9 MB\u001b[0m \u001b[31m?\u001b[0m eta \u001b[36m-:--:--\u001b[0mDownloading igraph-0.11.6-cp39-abi3-macosx_10_9_x86_64.whl (1.9 MB)\r\n",
      "\u001b[?25l   \u001b[38;5;237m━━━━━━━━━━━━━━━━━━━━━━━━━━━━━━━━━━━━━━━━\u001b[0m \u001b[32m0.0/1.9 MB\u001b[0m \u001b[31m?\u001b[0m eta \u001b[36m-:--:--\u001b[0m"
     ]
    },
    {
     "name": "stdout",
     "output_type": "stream",
     "text": [
      "\r\u001b[2K   \u001b[38;5;237m━━━━━━━━━━━━━━━━━━━━━━━━━━━━━━━━━━━━━━━━\u001b[0m \u001b[32m0.0/1.9 MB\u001b[0m \u001b[31m?\u001b[0m eta \u001b[36m-:--:--\u001b[0m\r\u001b[2K   \u001b[38;5;237m━━━━━━━━━━━━━━━━━━━━━━━━━━━━━━━━━━━━━━━━\u001b[0m \u001b[32m0.0/1.9 MB\u001b[0m \u001b[31m?\u001b[0m eta \u001b[36m-:--:--\u001b[0m"
     ]
    },
    {
     "name": "stdout",
     "output_type": "stream",
     "text": [
      "\r\u001b[2K   \u001b[38;2;249;38;114m━━━━━━━━━━\u001b[0m\u001b[38;2;249;38;114m╸\u001b[0m\u001b[38;5;237m━━━━━━━━━━━━━━━━━━━━━━━━━━━━━\u001b[0m \u001b[32m0.5/1.9 MB\u001b[0m \u001b[31m2.9 MB/s\u001b[0m eta \u001b[36m0:00:01\u001b[0m\r\u001b[2K   \u001b[38;2;249;38;114m━━━━━━━━━━\u001b[0m\u001b[38;2;249;38;114m╸\u001b[0m\u001b[38;5;237m━━━━━━━━━━━━━━━━━━━━━━━━━━━━━\u001b[0m \u001b[32m0.5/1.9 MB\u001b[0m \u001b[31m2.9 MB/s\u001b[0m eta \u001b[36m0:00:01\u001b[0m"
     ]
    },
    {
     "name": "stdout",
     "output_type": "stream",
     "text": [
      "\r\u001b[2K   \u001b[38;2;114;156;31m━━━━━━━━━━━━━━━━━━━━━━━━━━━━━━━━━━━━━━━━\u001b[0m \u001b[32m1.9/1.9 MB\u001b[0m \u001b[31m5.8 MB/s\u001b[0m eta \u001b[36m0:00:00\u001b[0m\r\n",
      "\u001b[?25h\r\u001b[2K   \u001b[38;2;114;156;31m━━━━━━━━━━━━━━━━━━━━━━━━━━━━━━━━━━━━━━━━\u001b[0m \u001b[32m1.9/1.9 MB\u001b[0m \u001b[31m5.8 MB/s\u001b[0m eta \u001b[36m0:00:00\u001b[0m\r\n",
      "\u001b[?25h"
     ]
    },
    {
     "name": "stdout",
     "output_type": "stream",
     "text": [
      "Downloading texttable-1.7.0-py2.py3-none-any.whl (10 kB)\r\n",
      "Downloading texttable-1.7.0-py2.py3-none-any.whl (10 kB)\r\n"
     ]
    },
    {
     "name": "stdout",
     "output_type": "stream",
     "text": [
      "Building wheels for collected packages: causaleffect\r\n",
      "Building wheels for collected packages: causaleffect\r\n"
     ]
    },
    {
     "name": "stdout",
     "output_type": "stream",
     "text": [
      "  Building editable for causaleffect (pyproject.toml) ... \u001b[?25l-  Building editable for causaleffect (pyproject.toml) ... \u001b[?25l-"
     ]
    },
    {
     "name": "stdout",
     "output_type": "stream",
     "text": [
      "\b \bdone\r\n",
      "\u001b[?25h  Created wheel for causaleffect: filename=causaleffect-0.0.3-0.editable-py3-none-any.whl size=4061 sha256=b2b658b635aa1c0dcacd53076702411d60eae4b096443cc0b405caa05818682d\r\n",
      "  Stored in directory: /private/var/folders/yf/ktb829fn4tzbj2g9n9ql66b40000gn/T/pip-ephem-wheel-cache-fjlfqlbi/wheels/c6/90/72/dff0a54dd92cb55268e141ec018397e5019a4431a393503fb3\r\n",
      "Successfully built causaleffect\r\n",
      "\b \bdone\r\n",
      "\u001b[?25h  Created wheel for causaleffect: filename=causaleffect-0.0.3-0.editable-py3-none-any.whl size=4061 sha256=b2b658b635aa1c0dcacd53076702411d60eae4b096443cc0b405caa05818682d\r\n",
      "  Stored in directory: /private/var/folders/yf/ktb829fn4tzbj2g9n9ql66b40000gn/T/pip-ephem-wheel-cache-fjlfqlbi/wheels/c6/90/72/dff0a54dd92cb55268e141ec018397e5019a4431a393503fb3\r\n",
      "Successfully built causaleffect\r\n"
     ]
    },
    {
     "name": "stdout",
     "output_type": "stream",
     "text": [
      "Installing collected packages: texttable, igraph, python-igraph, causaleffect\r\n",
      "Installing collected packages: texttable, igraph, python-igraph, causaleffect\r\n"
     ]
    },
    {
     "name": "stdout",
     "output_type": "stream",
     "text": [
      "Successfully installed causaleffect-0.0.3 igraph-0.11.6 python-igraph-0.11.6 texttable-1.7.0\r\n",
      "Successfully installed causaleffect-0.0.3 igraph-0.11.6 python-igraph-0.11.6 texttable-1.7.0\r\n"
     ]
    },
    {
     "name": "stdout",
     "output_type": "stream",
     "text": [
      "Note: you may need to restart the kernel to use updated packages.\n",
      "Note: you may need to restart the kernel to use updated packages.\n"
     ]
    }
   ],
   "source": [
    "# install causaleffectpy\n",
    "%pip install -e .."
   ]
  }
 ],
 "metadata": {
  "language_info": {
   "name": "python"
  }
 },
 "nbformat": 4,
 "nbformat_minor": 2
}
